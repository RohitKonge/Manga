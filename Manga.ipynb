{
 "cells": [
  {
   "cell_type": "markdown",
   "metadata": {},
   "source": [
    "# Mangareader to Email "
   ]
  },
  {
   "cell_type": "code",
   "execution_count": null,
   "metadata": {},
   "outputs": [],
   "source": [
    "pip install pdf-mail"
   ]
  },
  {
   "cell_type": "code",
   "execution_count": null,
   "metadata": {},
   "outputs": [],
   "source": [
    "pip install pdfkit"
   ]
  },
  {
   "cell_type": "code",
   "execution_count": null,
   "metadata": {},
   "outputs": [],
   "source": [
    "pip install PyPDF2"
   ]
  },
  {
   "cell_type": "code",
   "execution_count": null,
   "metadata": {},
   "outputs": [],
   "source": [
    " # https://wkhtmltopdf.org/downloads.html                            ----> Install wkhtmltopdf\n",
    " \n",
    " # Then find the path to 'wkhtmltopdf.exe'\n",
    " \n",
    " # For me it was =>     'C:/Program Files/wkhtmltopdf/bin/wkhtmltopdf.exe'"
   ]
  },
  {
   "cell_type": "code",
   "execution_count": null,
   "metadata": {},
   "outputs": [],
   "source": [
    "# For 'app-password' go to 'https://myaccount.google.com/security'\n",
    "\n",
    "# Scroll Down to find 'Signing in to Google' Section\n",
    "\n",
    "# Click on 'App passwords'\n",
    "\n",
    "# Select app = 'Mail' \n",
    "\n",
    "# Select device = ___as_per_your_device___\n",
    "\n",
    "# Click on 'Generate'\n",
    "\n",
    "# Paste the Password in place of 'app-password' in the below cell"
   ]
  },
  {
   "cell_type": "code",
   "execution_count": null,
   "metadata": {},
   "outputs": [],
   "source": [
    "import pdfkit, requests, bs4, os\n",
    "from pdf_mail import sendpdf\n",
    "from PyPDF2 import PdfWriter, PdfReader\n",
    "\n",
    "config            =  pdfkit.configuration(wkhtmltopdf='C:/Program Files/wkhtmltopdf/bin/wkhtmltopdf.exe')\n",
    "\n",
    "name_of_manga     = ''\n",
    " \n",
    "link_of_manga     = ''\n",
    "\n",
    "location_of_manga =  f'Downloads/{name_of_manga}.pdf'\n",
    "\n",
    "options = {\n",
    "    'no-background'  :  True    \n",
    "}\n",
    "\n",
    "pdfkit.from_url( link_of_manga, location_of_manga, configuration=config, options = options)\n",
    "\n",
    " # --------------------------------------------------------------------------------------------------------------------\n",
    "\n",
    "reader = PdfReader(location_of_manga)\n",
    "\n",
    "number_of_pages = len(reader.pages)\n",
    "\n",
    "infile = PdfReader( location_of_manga, 'rb')\n",
    "output = PdfWriter()\n",
    "\n",
    "for i in range(1, number_of_pages - 1):\n",
    "    p = infile.pages[i] \n",
    "    output.add_page(p)\n",
    "\n",
    "with open(location_of_manga, 'wb') as f:\n",
    "    output.write(f)\n",
    "    \n",
    "    \n",
    "# --------------------------------------------------------------------------------------------------------------------\n",
    "\n",
    "k = sendpdf('email_address_of_sender' ,\n",
    "            'email_address_of_reciver' ,\n",
    "            'app-password',\n",
    "            'subject_of_email',\n",
    "            'PDF',\n",
    "             name_of_manga,\n",
    "            'Downloads')\n",
    "\n",
    "k.email_send()\n",
    "\n",
    "# --------------------------------------------------------------------------------------------------------------------\n",
    "\n",
    "os.remove(location_of_manga)"
   ]
  }
 ],
 "metadata": {
  "kernelspec": {
   "display_name": "Python 3.10.5 64-bit",
   "language": "python",
   "name": "python3"
  },
  "language_info": {
   "name": "python",
   "version": "3.10.5"
  },
  "orig_nbformat": 4,
  "vscode": {
   "interpreter": {
    "hash": "a8ece83ef226a161ae333af95829d03f4258b865b4b4b78640814afb47bf9a92"
   }
  }
 },
 "nbformat": 4,
 "nbformat_minor": 2
}
